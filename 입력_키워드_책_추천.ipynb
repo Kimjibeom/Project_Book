{
  "nbformat": 4,
  "nbformat_minor": 0,
  "metadata": {
    "colab": {
      "name": "입력 키워드 책 추천.ipynb",
      "provenance": [],
      "authorship_tag": "ABX9TyMHDJKwu/dRhoEm9srFfA23",
      "include_colab_link": true
    },
    "kernelspec": {
      "name": "python3",
      "display_name": "Python 3"
    },
    "language_info": {
      "name": "python"
    }
  },
  "cells": [
    {
      "cell_type": "markdown",
      "metadata": {
        "id": "view-in-github",
        "colab_type": "text"
      },
      "source": [
        "<a href=\"https://colab.research.google.com/github/Kimjibeom/Project_Book/blob/main/%EC%9E%85%EB%A0%A5_%ED%82%A4%EC%9B%8C%EB%93%9C_%EC%B1%85_%EC%B6%94%EC%B2%9C.ipynb\" target=\"_parent\"><img src=\"https://colab.research.google.com/assets/colab-badge.svg\" alt=\"Open In Colab\"/></a>"
      ]
    },
    {
      "cell_type": "markdown",
      "metadata": {
        "id": "amHHwEeLy1xz"
      },
      "source": [
        "# Google Drive 마운트 하기\n",
        "\n",
        "\n",
        "\n"
      ]
    },
    {
      "cell_type": "code",
      "metadata": {
        "colab": {
          "base_uri": "https://localhost:8080/"
        },
        "id": "9rQE5fYpy6oV",
        "outputId": "5fdb9e44-a1d3-4df8-8e6f-d79f29a00257"
      },
      "source": [
        "from google.colab import drive\n",
        "drive.mount('/content/drive')"
      ],
      "execution_count": 1,
      "outputs": [
        {
          "output_type": "stream",
          "name": "stdout",
          "text": [
            "Mounted at /content/drive\n"
          ]
        }
      ]
    },
    {
      "cell_type": "code",
      "metadata": {
        "id": "OvispZPiy90M"
      },
      "source": [
        "#경로 설정\n",
        "import os\n",
        "os.chdir('/content/drive/My Drive/')"
      ],
      "execution_count": 2,
      "outputs": []
    },
    {
      "cell_type": "markdown",
      "metadata": {
        "id": "41uqRLKqACCi"
      },
      "source": [
        "# 키워드 콘텐츠 필터링을 이용한 도서 추천"
      ]
    },
    {
      "cell_type": "code",
      "metadata": {
        "id": "ib5cTMZuKGbU"
      },
      "source": [
        "import pandas as pd\n",
        "import numpy as np\n",
        "from ast import literal_eval\n",
        "\n",
        "book = pd.read_csv('/content/drive/MyDrive/data/book_data_nouns.csv')"
      ],
      "execution_count": 45,
      "outputs": []
    },
    {
      "cell_type": "markdown",
      "metadata": {
        "id": "dkahB4mVNdnX"
      },
      "source": [
        "# 단어 벡터화"
      ]
    },
    {
      "cell_type": "code",
      "metadata": {
        "id": "B6OG2qY-LqjR"
      },
      "source": [
        "from sklearn.feature_extraction.text import TfidfVectorizer\n",
        "\n",
        "# ngram_range=(1, 2) : 단어를 1개 혹은 2개 연속으로 보겠다\n",
        "tfidf_vec = TfidfVectorizer(ngram_range=(1, 2))\n",
        "tfidf_matrix = tfidf_vec.fit_transform(book['keywords'])"
      ],
      "execution_count": 46,
      "outputs": []
    },
    {
      "cell_type": "markdown",
      "metadata": {
        "id": "cmUILdbXNhs3"
      },
      "source": [
        "* keyword 데이터를 TfidfVectorizer(TFIDF 기반 벡터화) 메소드로 벡터화한다.\n",
        "* TF-IDF 방식으로 단어의 가중치를 조정한 BOW 벡터를 만든다.\n",
        "* ngram_range는 단어를 1개 혹은 2개 연속으로 보고 이를 하나로 묶는다는 의미이다.\n",
        "* 그러한 TfidfVectorizer를 기반으로 keyword 데이터를 바로 fit 및 transfrom 한다."
      ]
    },
    {
      "cell_type": "markdown",
      "metadata": {
        "id": "rGmlTZzXLxX3"
      },
      "source": [
        "# 유사도 측정"
      ]
    },
    {
      "cell_type": "code",
      "metadata": {
        "colab": {
          "base_uri": "https://localhost:8080/"
        },
        "id": "6H9diqJ9LvPS",
        "outputId": "07a9166b-3fbd-4dbc-c556-7e80dabd291f"
      },
      "source": [
        "from sklearn.metrics.pairwise import cosine_similarity\n",
        "\n",
        "# 개의 도서랑 개의 도서끼리 유사도를 구함\n",
        "# 자신과의 유사도는 1\n",
        "genres_similarity = cosine_similarity(tfidf_matrix, tfidf_matrix)\n",
        "print(genres_similarity)\n",
        "# 유사도 값이 높은 영화의 제목\n",
        "# 유사도 값이 높은 순으로 인덱스 값을 뽑아낸다\n",
        "similar_index = np.argsort(-genres_similarity)\n",
        "print(similar_index)"
      ],
      "execution_count": 47,
      "outputs": [
        {
          "output_type": "stream",
          "name": "stdout",
          "text": [
            "[[1.         0.00438686 0.         ... 0.00125905 0.00262927 0.        ]\n",
            " [0.00438686 1.         0.         ... 0.00705829 0.00378669 0.0128543 ]\n",
            " [0.         0.         1.         ... 0.         0.         0.        ]\n",
            " ...\n",
            " [0.00125905 0.00705829 0.         ... 1.         0.03222907 0.01013079]\n",
            " [0.00262927 0.00378669 0.         ... 0.03222907 1.         0.00656322]\n",
            " [0.         0.0128543  0.         ... 0.01013079 0.00656322 1.        ]]\n",
            "[[    0 10133  5882 ...  4518  4534 10733]\n",
            " [    1  3746  9429 ...  6421  2151  5366]\n",
            " [    2  5151  8869 ...  4274  4340 10733]\n",
            " ...\n",
            " [10731  8018  7323 ...  3924  3806  3540]\n",
            " [10732  2940  2647 ...  6608  6577  5366]\n",
            " [10733   268   267 ...  5185  5245  5366]]\n"
          ]
        }
      ]
    },
    {
      "cell_type": "markdown",
      "metadata": {
        "id": "XDgeGR1oN1sI"
      },
      "source": [
        "* cosine_similarity 메소드는 코사인 유사도를 기반으로 유사도를 측정해준다.\n",
        "* 측정된 유사도 행렬은 도서개수x도서개수의 shape를 가진다.\n",
        "* np.argsort(-genres_similarity)를 수행하면 genres_similarity를 유사도가 높은 순서대로 정렬한 인덱스 numpy 배열을 리턴한다. 즉, 각 도서에 해당하는 행마다 자신과 유사한 도서를 순서대로 가지고 있는 배열이 생성된다."
      ]
    },
    {
      "cell_type": "markdown",
      "metadata": {
        "id": "zmvsQy8ZMvx1"
      },
      "source": [
        "# 사용자입력 및 결과 출력"
      ]
    },
    {
      "cell_type": "code",
      "metadata": {
        "colab": {
          "base_uri": "https://localhost:8080/",
          "height": 1000
        },
        "id": "Gn8sdT6BL9T0",
        "outputId": "618f0157-127d-4d8c-b69c-ab7d9db16904"
      },
      "source": [
        "input_keywords = input()\n",
        "\n",
        "book_index = book[book['keywords'].str.contains(input_keywords)].index\n",
        "similar_book = similar_index[book_index, :5]\n",
        "\n",
        "# 인덱스로 사용하기 용이하도록 1차원으로 변경\n",
        "similar_book_index = similar_book.reshape(-1)\n",
        "\n",
        "display(book.iloc[similar_book_index])\n",
        "'''\n",
        "result = book.iloc[similar_book_index]\n",
        "result = result.head()\n",
        "print(result)\n",
        "'''"
      ],
      "execution_count": 59,
      "outputs": [
        {
          "name": "stdout",
          "output_type": "stream",
          "text": [
            "사회\n"
          ]
        },
        {
          "output_type": "display_data",
          "data": {
            "text/html": [
              "<div>\n",
              "<style scoped>\n",
              "    .dataframe tbody tr th:only-of-type {\n",
              "        vertical-align: middle;\n",
              "    }\n",
              "\n",
              "    .dataframe tbody tr th {\n",
              "        vertical-align: top;\n",
              "    }\n",
              "\n",
              "    .dataframe thead th {\n",
              "        text-align: right;\n",
              "    }\n",
              "</style>\n",
              "<table border=\"1\" class=\"dataframe\">\n",
              "  <thead>\n",
              "    <tr style=\"text-align: right;\">\n",
              "      <th></th>\n",
              "      <th>id</th>\n",
              "      <th>title</th>\n",
              "      <th>writer</th>\n",
              "      <th>publisher</th>\n",
              "      <th>publishDate</th>\n",
              "      <th>intro</th>\n",
              "      <th>genres</th>\n",
              "      <th>image</th>\n",
              "      <th>ko_title</th>\n",
              "      <th>ko_intro</th>\n",
              "      <th>keywords</th>\n",
              "    </tr>\n",
              "  </thead>\n",
              "  <tbody>\n",
              "    <tr>\n",
              "      <th>2</th>\n",
              "      <td>11931111_9788963527192</td>\n",
              "      <td>인간행동과 사회환경</td>\n",
              "      <td>장수한 김현주 임혁 채인숙</td>\n",
              "      <td>공동체\\n</td>\n",
              "      <td>2020.7.30</td>\n",
              "      <td>▶ 이 책은 인간행동과 사회환경을 다룬 이론서입니다. 인간행동과 사회환경의 기초적이...</td>\n",
              "      <td>사회</td>\n",
              "      <td>https://bookthumb-phinf.pstatic.net/cover/119/...</td>\n",
              "      <td>인간행동과 사회환경</td>\n",
              "      <td>이 책은 인간행동과 사회환경을 다룬 이론서입니다 인간행동과 사회환경의 기초적이고 ...</td>\n",
              "      <td>인간 행동 사회 환경 이론 인간 행동 사회 환경 학습</td>\n",
              "    </tr>\n",
              "    <tr>\n",
              "      <th>5151</th>\n",
              "      <td>18059136_9791191109252</td>\n",
              "      <td>인간행동과 사회환경</td>\n",
              "      <td>이무영 권신영 김미영 송혜자</td>\n",
              "      <td>어가\\n</td>\n",
              "      <td>2021.2.27</td>\n",
              "      <td>이 책은 최근 사회복지대학교육협의회에서 제세한 사회복지교과 개정지침에 따라 인간의 ...</td>\n",
              "      <td>사회</td>\n",
              "      <td>https://bookthumb-phinf.pstatic.net/cover/180/...</td>\n",
              "      <td>인간행동과 사회환경</td>\n",
              "      <td>이 책은 최근 사회복지대학교육협의회에서 제세한 사회복지교과 개정지침에 따라 인간의 ...</td>\n",
              "      <td>최근 회복 대학교육 협의 세한 사회 복지 교과 개정 지침 인간 행동 영향 사회 환경...</td>\n",
              "    </tr>\n",
              "    <tr>\n",
              "      <th>8869</th>\n",
              "      <td>20642492_9791163283164</td>\n",
              "      <td>인간행동과 사회환경 장수복 외제2판</td>\n",
              "      <td>한주빈</td>\n",
              "      <td>동문사(교재)</td>\n",
              "      <td>2021.6.30</td>\n",
              "      <td>사회복지사는 ‘환경 속의 인간’에 대한 관점을 갖고 인간의 행동은 개인적인 부분이 ...</td>\n",
              "      <td>사회</td>\n",
              "      <td>https://bookthumb-phinf.pstatic.net/cover/206/...</td>\n",
              "      <td>인간행동과 사회환경 장수복 외제판</td>\n",
              "      <td>사회복지사는 환경 속의 인간에 대한 관점을 갖고 인간의 행동은 개인적인 부분이 아닌...</td>\n",
              "      <td>사회 복지사 환경 인간 관점 인간 행동 개인 부분 환경 영향 전제 인간 인간 행동 ...</td>\n",
              "    </tr>\n",
              "    <tr>\n",
              "      <th>260</th>\n",
              "      <td>16357500_9791137206120</td>\n",
              "      <td>POD 인간행동이론</td>\n",
              "      <td>김해영</td>\n",
              "      <td>부크크(bookk)\\n</td>\n",
              "      <td>2020.5.8</td>\n",
              "      <td>그간 대학과 대학원에서 인간행동과 사회환경을 다년간 강의한 김해영 교수가 보다 쉽게...</td>\n",
              "      <td>사회</td>\n",
              "      <td>https://bookthumb-phinf.pstatic.net/cover/163/...</td>\n",
              "      <td>인간행동이론</td>\n",
              "      <td>그간 대학과 대학원에서 인간행동과 사회환경을 다년간 강의한 김해영 교수가 보다 쉽게...</td>\n",
              "      <td>그간 대학 대학원 인간 행동 사회 환경 다년 강의 김해영 교수 접근 주제 조직 인간...</td>\n",
              "    </tr>\n",
              "    <tr>\n",
              "      <th>8151</th>\n",
              "      <td>20578014_9788999723247</td>\n",
              "      <td>인간행동과 사회복지실천2판양장본 HardCover이론과 적용 2판</td>\n",
              "      <td>권중돈</td>\n",
              "      <td>학지사</td>\n",
              "      <td>2021.2.25</td>\n",
              "      <td>권중돈\\n1960년 늦여름 경남 의령의 작은 동네에서 태어나 성장하였고 숭실대학교에...</td>\n",
              "      <td>사회</td>\n",
              "      <td>https://bookthumb-phinf.pstatic.net/cover/205/...</td>\n",
              "      <td>인간행동과 사회복지실천판양장본 이론과 적용 판</td>\n",
              "      <td>권중돈년 늦여름 경남 의령의 작은 동네에서 태어나 성장하였고 숭실대학교에서 영어영문...</td>\n",
              "      <td>권중돈 여름 경남 의령 동네 숭실대 학교 영어 영문학 전공 사회사업 전공 연세대학교...</td>\n",
              "    </tr>\n",
              "    <tr>\n",
              "      <th>...</th>\n",
              "      <td>...</td>\n",
              "      <td>...</td>\n",
              "      <td>...</td>\n",
              "      <td>...</td>\n",
              "      <td>...</td>\n",
              "      <td>...</td>\n",
              "      <td>...</td>\n",
              "      <td>...</td>\n",
              "      <td>...</td>\n",
              "      <td>...</td>\n",
              "      <td>...</td>\n",
              "    </tr>\n",
              "    <tr>\n",
              "      <th>10727</th>\n",
              "      <td>9791197511134_20753964</td>\n",
              "      <td>불씨1큰글씨책</td>\n",
              "      <td>도몬 후유지 지음 김철수</td>\n",
              "      <td>굿인포메이션</td>\n",
              "      <td>2021.7.15</td>\n",
              "      <td>한국과 일본 130만부 이상 팔려나간 기업소설의고전(古典) 〈불씨〉  큰글씨책 출간...</td>\n",
              "      <td>소설</td>\n",
              "      <td>https://bookthumb-phinf.pstatic.net/cover/207/...</td>\n",
              "      <td>불씨큰글씨책</td>\n",
              "      <td>한국과 일본 만부 이상 팔려나간 기업소설의고전 불씨  큰글씨책 출간이 책은 지금으로...</td>\n",
              "      <td>일본 기업 소설 고전 불씨 글씨 간이 일본 봉건사회 성공 개혁 추진 통치 미국 케네...</td>\n",
              "    </tr>\n",
              "    <tr>\n",
              "      <th>10728</th>\n",
              "      <td>9791197511141_20753965</td>\n",
              "      <td>불씨2큰글씨책</td>\n",
              "      <td>도몬 후유지 지음 김철수</td>\n",
              "      <td>굿인포메이션</td>\n",
              "      <td>2021.7.15</td>\n",
              "      <td>한국과 일본 130만부 이상 팔려나간 기업소설의고전(古典) 〈불씨〉  큰글씨책 출간...</td>\n",
              "      <td>소설</td>\n",
              "      <td>https://bookthumb-phinf.pstatic.net/cover/207/...</td>\n",
              "      <td>불씨큰글씨책</td>\n",
              "      <td>한국과 일본 만부 이상 팔려나간 기업소설의고전 불씨  큰글씨책 출간이 책은 지금으로...</td>\n",
              "      <td>일본 기업 소설 고전 불씨 글씨 간이 일본 봉건사회 성공 개혁 추진 통치 미국 케네...</td>\n",
              "    </tr>\n",
              "    <tr>\n",
              "      <th>6485</th>\n",
              "      <td>18865912_9791196827922</td>\n",
              "      <td>김인회의 경찰을 생각한다경찰권력의 견제와 균형</td>\n",
              "      <td>김인회</td>\n",
              "      <td>준평\\n</td>\n",
              "      <td>2021.4.1</td>\n",
              "      <td>우리나라 검찰개혁의 최고 권위자 김인회 교수의 화제 신간경찰개혁으로 오랫동안 고민해...</td>\n",
              "      <td>사회</td>\n",
              "      <td>https://bookthumb-phinf.pstatic.net/cover/188/...</td>\n",
              "      <td>김인회의 경찰을 생각한다경찰권력의 견제와 균형</td>\n",
              "      <td>우리나라 검찰개혁의 최고 권위자 김인회 교수의 화제 신간경찰개혁으로 오랫동안 고민해...</td>\n",
              "      <td>우리나라 검찰 개혁 최고 권위자 김인 교수 화제 신간 경찰 개혁 고민 권력 기관 개...</td>\n",
              "    </tr>\n",
              "    <tr>\n",
              "      <th>7346</th>\n",
              "      <td>20420573_9791187822578</td>\n",
              "      <td>강군의 꿈국방혁신을 위한 여정</td>\n",
              "      <td>정홍용</td>\n",
              "      <td>플래닛미디어\\n</td>\n",
              "      <td>2021.4.28</td>\n",
              "      <td>그동안 우리가 추진해왔던 국방개혁의 문제점과 외국의 국방개혁 사례를 살펴보고 국방개...</td>\n",
              "      <td>사회</td>\n",
              "      <td>https://bookthumb-phinf.pstatic.net/cover/204/...</td>\n",
              "      <td>강군의 꿈국방혁신을 위한 여정</td>\n",
              "      <td>그동안 우리가 추진해왔던 국방개혁의 문제점과 외국의 국방개혁 사례를 살펴보고 국방개...</td>\n",
              "      <td>그동안 추진 국방 개혁 문제점 외국 국방 개혁 사례 국방 개혁 업무 간접 관여 경험...</td>\n",
              "    </tr>\n",
              "    <tr>\n",
              "      <th>6562</th>\n",
              "      <td>18868601_9788976447784</td>\n",
              "      <td>몽골의 정부개혁양장본 HardCover</td>\n",
              "      <td>김태룡</td>\n",
              "      <td>대영문화사\\n</td>\n",
              "      <td>2021.3.31</td>\n",
              "      <td>『몽골의 정부개혁』은 〈몽골: 어떤 나라인가?〉 〈몽골의 정부개혁에 영향을 끼친 이...</td>\n",
              "      <td>사회</td>\n",
              "      <td>https://bookthumb-phinf.pstatic.net/cover/188/...</td>\n",
              "      <td>몽골의 정부개혁양장본</td>\n",
              "      <td>몽골의 정부개혁은 몽골 어떤 나라인가 몽골의 정부개혁에 영향을 끼친 이론 몽골의 개...</td>\n",
              "      <td>몽골 정부 개혁 몽골 나라 몽골 정부 개혁 영향 이론 몽골 개혁 환경 개혁 과정 몽...</td>\n",
              "    </tr>\n",
              "  </tbody>\n",
              "</table>\n",
              "<p>11940 rows × 11 columns</p>\n",
              "</div>"
            ],
            "text/plain": [
              "                           id  ...                                           keywords\n",
              "2      11931111_9788963527192  ...                      인간 행동 사회 환경 이론 인간 행동 사회 환경 학습\n",
              "5151   18059136_9791191109252  ...  최근 회복 대학교육 협의 세한 사회 복지 교과 개정 지침 인간 행동 영향 사회 환경...\n",
              "8869   20642492_9791163283164  ...  사회 복지사 환경 인간 관점 인간 행동 개인 부분 환경 영향 전제 인간 인간 행동 ...\n",
              "260    16357500_9791137206120  ...  그간 대학 대학원 인간 행동 사회 환경 다년 강의 김해영 교수 접근 주제 조직 인간...\n",
              "8151   20578014_9788999723247  ...  권중돈 여름 경남 의령 동네 숭실대 학교 영어 영문학 전공 사회사업 전공 연세대학교...\n",
              "...                       ...  ...                                                ...\n",
              "10727  9791197511134_20753964  ...  일본 기업 소설 고전 불씨 글씨 간이 일본 봉건사회 성공 개혁 추진 통치 미국 케네...\n",
              "10728  9791197511141_20753965  ...  일본 기업 소설 고전 불씨 글씨 간이 일본 봉건사회 성공 개혁 추진 통치 미국 케네...\n",
              "6485   18865912_9791196827922  ...  우리나라 검찰 개혁 최고 권위자 김인 교수 화제 신간 경찰 개혁 고민 권력 기관 개...\n",
              "7346   20420573_9791187822578  ...  그동안 추진 국방 개혁 문제점 외국 국방 개혁 사례 국방 개혁 업무 간접 관여 경험...\n",
              "6562   18868601_9788976447784  ...  몽골 정부 개혁 몽골 나라 몽골 정부 개혁 영향 이론 몽골 개혁 환경 개혁 과정 몽...\n",
              "\n",
              "[11940 rows x 11 columns]"
            ]
          },
          "metadata": {}
        },
        {
          "output_type": "execute_result",
          "data": {
            "application/vnd.google.colaboratory.intrinsic+json": {
              "type": "string"
            },
            "text/plain": [
              "'\\nresult = book.iloc[similar_book_index]\\nresult = result.head()\\nprint(result)\\n'"
            ]
          },
          "metadata": {},
          "execution_count": 59
        }
      ]
    },
    {
      "cell_type": "markdown",
      "metadata": {
        "id": "zEYtqLumMz_R"
      },
      "source": [
        "* 사용자가 입력한 도서의 인덱스 값을 찾아내고 similar_index 에 접근한다.\n",
        "* similar_index에서 얻어낸 정보를 기반으로 유사도가 제일 가까운 5개의 도서 인덱스를 가져온다.\n",
        "* 해당 데이터는 2차원으로 되어 있는데, 인덱스를 활용하기 용이하도록 1차원으로 변경한다.\n",
        "* book 데이터에서 해당 인덱스 정보를 활용해 값을 출력한다."
      ]
    }
  ]
}